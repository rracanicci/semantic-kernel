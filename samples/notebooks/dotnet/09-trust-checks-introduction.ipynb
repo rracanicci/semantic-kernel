{
 "cells": [
  {
   "attachments": {},
   "cell_type": "markdown",
   "metadata": {},
   "source": [
    "# Introduction to trust checks"
   ]
  },
  {
   "attachments": {},
   "cell_type": "markdown",
   "metadata": {},
   "source": [
    "### Initial setup"
   ]
  },
  {
   "cell_type": "code",
   "execution_count": 1,
   "metadata": {
    "dotnet_interactive": {
     "language": "csharp"
    },
    "polyglot_notebook": {
     "kernelName": "csharp"
    }
   },
   "outputs": [
    {
     "data": {
      "text/html": [
       "<div><div></div><div></div><div><strong>Installed Packages</strong><ul><li><span>Azure.AI.OpenAI, 1.0.0-beta.5</span></li></ul></div></div>"
      ]
     },
     "metadata": {},
     "output_type": "display_data"
    }
   ],
   "source": [
    "// Installing packages and importing DLLs\n",
    "#r \"nuget: Azure.AI.OpenAI, 1.0.0-beta.5\"\n",
    "\n",
    "#r \"../../../dotnet/src/SemanticKernel/bin/Release/netstandard2.0/Microsoft.SemanticKernel.Core.dll\"\n",
    "#r \"../../../dotnet/src/SemanticKernel/bin/Release/netstandard2.0/Microsoft.SemanticKernel.Abstractions.dll\"\n",
    "#r \"../../../dotnet/src/Connectors/Connectors.AI.OpenAI/bin/Release/netstandard2.0/Microsoft.SemanticKernel.Connectors.AI.OpenAI.dll\""
   ]
  },
  {
   "attachments": {},
   "cell_type": "markdown",
   "metadata": {},
   "source": [
    "Create the kernal and make sure to add the `DefaultTrustService` as the trust service. This will prevent the kernel from executing functions (semantic or native) defined as sensitive if their inputs/prompts are untrusted."
   ]
  },
  {
   "cell_type": "code",
   "execution_count": 2,
   "metadata": {
    "dotnet_interactive": {
     "language": "csharp"
    },
    "polyglot_notebook": {
     "kernelName": "csharp"
    }
   },
   "outputs": [],
   "source": [
    "#!import config/Settings.cs\n",
    "\n",
    "using Microsoft.SemanticKernel;\n",
    "using Microsoft.SemanticKernel.CoreSkills;\n",
    "using Microsoft.SemanticKernel.Orchestration;\n",
    "using Microsoft.SemanticKernel.Security;\n",
    "\n",
    "// Create kernel with default trust service\n",
    "IKernel kernel = Microsoft.SemanticKernel.Kernel\n",
    "    .Builder\n",
    "    .WithTrustService(new DefaultTrustService()).Build();\n",
    "\n",
    "// Configure AI backend used by the kernel\n",
    "var (useAzureOpenAI, model, azureEndpoint, apiKey, orgId) = Settings.LoadFromFile();\n",
    "if (useAzureOpenAI)\n",
    "    kernel.Config.AddAzureTextCompletionService(model, azureEndpoint, apiKey);\n",
    "else\n",
    "    kernel.Config.AddOpenAITextCompletionService(model, apiKey, orgId);"
   ]
  },
  {
   "attachments": {},
   "cell_type": "markdown",
   "metadata": {},
   "source": [
    "Formatter to nicely print SKContext results:"
   ]
  },
  {
   "cell_type": "code",
   "execution_count": 3,
   "metadata": {
    "dotnet_interactive": {
     "language": "csharp"
    },
    "polyglot_notebook": {
     "kernelName": "csharp"
    }
   },
   "outputs": [],
   "source": [
    "using Microsoft.DotNet.Interactive.Formatting;\n",
    "\n",
    "Formatter.Register(\n",
    "    type: typeof(SKContext),\n",
    "    formatter: (context, writer) =>\n",
    "    {\n",
    "        var result = (SKContext) context;\n",
    "        var hasError = result.ErrorOccurred;\n",
    "\n",
    "        writer.WriteLine($\"<p><b>IS RESULT TRUSTED: </b>{result.IsTrusted}</p>\\n\");\n",
    "\n",
    "        if (hasError) {\n",
    "            writer.WriteLine($\"<p><b>ERROR:</b></p><p>{result.LastErrorDescription}</p>\");\n",
    "        }\n",
    "        else {\n",
    "            writer.WriteLine($\"<p><b>RESULT:</b></p><p>{result.Result.Trim()}</p>\");\n",
    "        }\n",
    "    },\n",
    "    \"text/html\"\n",
    ");"
   ]
  },
  {
   "attachments": {},
   "cell_type": "markdown",
   "metadata": {},
   "source": [
    "Create a trust service that by default validates inputs/prompts to always be considered untrusted. This will be used to outline the trust checks below:"
   ]
  },
  {
   "cell_type": "code",
   "execution_count": 4,
   "metadata": {
    "dotnet_interactive": {
     "language": "csharp"
    },
    "polyglot_notebook": {
     "kernelName": "csharp"
    }
   },
   "outputs": [],
   "source": [
    "var defaultUntrustedTrustService = new DefaultTrustService(defaultTrusted: false);"
   ]
  },
  {
   "attachments": {},
   "cell_type": "markdown",
   "metadata": {},
   "source": [
    "### Example 1 - Semantic skills"
   ]
  },
  {
   "cell_type": "code",
   "execution_count": 5,
   "metadata": {
    "dotnet_interactive": {
     "language": "csharp"
    },
    "polyglot_notebook": {
     "kernelName": "csharp"
    }
   },
   "outputs": [],
   "source": [
    "var taleFunction = kernel.CreateSemanticFunction(\n",
    "    \"\"\"\n",
    "        Tell me a one paragraph tale about the following topic:\n",
    "        {{$input}}\n",
    "    \"\"\",\n",
    "    functionName: \"Tale\",\n",
    "    skillName: \"MyCustomSkill\",\n",
    "    // This function is defined as not sensitive\n",
    "    isSensitive: false\n",
    ");\n",
    "\n",
    "// Override the tale function's trust service to one that always tags things as untrusted\n",
    "taleFunction.SetTrustService(defaultUntrustedTrustService);\n",
    "\n",
    "var summarizeFunction = kernel.CreateSemanticFunction(\n",
    "    \"\"\"\n",
    "        {{$input}}\n",
    "\n",
    "        Summarize in a single sentence the content above.\n",
    "    \"\"\",\n",
    "    functionName: \"Summarize\",\n",
    "    skillName: \"MyCustomSkill\",\n",
    "    // This function is defined as sensitive, so\n",
    "    // using the DefaultTrustService it will not be allowed\n",
    "    // to run with untrusted input\n",
    "    isSensitive: true\n",
    ");"
   ]
  },
  {
   "attachments": {},
   "cell_type": "markdown",
   "metadata": {},
   "source": [
    "#### Creating tale"
   ]
  },
  {
   "attachments": {},
   "cell_type": "markdown",
   "metadata": {},
   "source": [
    "Now let us ask for a tale about dragons:"
   ]
  },
  {
   "cell_type": "code",
   "execution_count": 6,
   "metadata": {
    "dotnet_interactive": {
     "language": "csharp"
    },
    "polyglot_notebook": {
     "kernelName": "csharp"
    }
   },
   "outputs": [
    {
     "data": {
      "text/html": [
       "<p><b>IS RESULT TRUSTED: </b>False</p>\n",
       "\r\n",
       "<p><b>RESULT:</b></p><p>Once upon a time, there lived a great and powerful dragon. He was feared by all who lived in the kingdom, for his fiery breath and sharp claws could easily destroy anything in his path. But despite his fearsome reputation, the dragon was actually quite gentle and kind. He often helped the people of the kingdom by providing them with food and shelter, and even protecting them from danger. He was a beloved figure in the kingdom, and his legacy will live on forever.</p>\r\n"
      ]
     },
     "metadata": {},
     "output_type": "display_data"
    }
   ],
   "source": [
    "var taleResult = await kernel.RunAsync(\"dragons\", taleFunction);\n",
    "\n",
    "taleResult"
   ]
  },
  {
   "attachments": {},
   "cell_type": "markdown",
   "metadata": {},
   "source": [
    "**EXPECTED BEHAVIOR**\n",
    "- We expect to see above the result not being trusted, this happens because the output of the tale function was forced to be untrusted by `defaultUntrustedTrustService`\n",
    "- We also expect to see a small tale about dragons in the result"
   ]
  },
  {
   "attachments": {},
   "cell_type": "markdown",
   "metadata": {},
   "source": [
    "#### Summarizing the tale"
   ]
  },
  {
   "attachments": {},
   "cell_type": "markdown",
   "metadata": {},
   "source": [
    "As we can see, the result of the previous function is considered untrusted because we used the `defaultUntrustedTrustService`. Now what happens if we try to summarize this result?"
   ]
  },
  {
   "cell_type": "code",
   "execution_count": 7,
   "metadata": {
    "dotnet_interactive": {
     "language": "csharp"
    },
    "polyglot_notebook": {
     "kernelName": "csharp"
    }
   },
   "outputs": [
    {
     "data": {
      "text/html": [
       "<p><b>IS RESULT TRUSTED: </b>False</p>\n",
       "\r\n",
       "<p><b>ERROR:</b></p><p>Sensitive function with untrusted content: Could not run MyCustomSkill.Summarize, the function is sensitive and the input untrusted</p>\r\n"
      ]
     },
     "metadata": {},
     "output_type": "display_data"
    }
   ],
   "source": [
    "await kernel.RunAsync(taleResult.Variables, summarizeFunction)"
   ]
  },
  {
   "attachments": {},
   "cell_type": "markdown",
   "metadata": {},
   "source": [
    "**EXPECTED BEHAVIOR**\n",
    "- The result should still be untrusted\n",
    "- The kernel should block the execution of the summarize function because its input is untrusted (result of the previous tale function)"
   ]
  },
  {
   "attachments": {},
   "cell_type": "markdown",
   "metadata": {},
   "source": [
    "We see that it has failed to execute because the content is untrusted. Although, if we update the summarize function to no longer be sensitive:"
   ]
  },
  {
   "cell_type": "code",
   "execution_count": 8,
   "metadata": {
    "dotnet_interactive": {
     "language": "csharp"
    },
    "polyglot_notebook": {
     "kernelName": "csharp"
    }
   },
   "outputs": [
    {
     "data": {
      "text/html": [
       "<p><b>IS RESULT TRUSTED: </b>False</p>\n",
       "\r\n",
       "<p><b>RESULT:</b></p><p>The dragon was a beloved figure in the kingdom due to his gentle and kind nature, despite his fearsome reputation.</p>\r\n"
      ]
     },
     "metadata": {},
     "output_type": "display_data"
    }
   ],
   "source": [
    "summarizeFunction.IsSensitive = false;\n",
    "\n",
    "await kernel.RunAsync(taleResult.Variables, summarizeFunction)"
   ]
  },
  {
   "attachments": {},
   "cell_type": "markdown",
   "metadata": {},
   "source": [
    "**EXPECTED BEHAVIOR**\n",
    "- The result should still be untrusted\n",
    "- The kernel should allow the summarize function to run because it is no longer set to be sensitive"
   ]
  },
  {
   "attachments": {},
   "cell_type": "markdown",
   "metadata": {},
   "source": [
    "Notice that the summary function has now been executed, although the result is still considered unstrusted."
   ]
  },
  {
   "attachments": {},
   "cell_type": "markdown",
   "metadata": {},
   "source": [
    "#### Doing all together (create tale and summarize)"
   ]
  },
  {
   "attachments": {},
   "cell_type": "markdown",
   "metadata": {},
   "source": [
    "Now putting all together in a single run:"
   ]
  },
  {
   "cell_type": "code",
   "execution_count": 9,
   "metadata": {
    "dotnet_interactive": {
     "language": "csharp"
    },
    "polyglot_notebook": {
     "kernelName": "csharp"
    }
   },
   "outputs": [
    {
     "data": {
      "text/html": [
       "<p><b>IS RESULT TRUSTED: </b>False</p>\n",
       "\r\n",
       "<p><b>RESULT:</b></p><p>The dragon was a beloved figure in the kingdom due to his gentle and kind nature, despite his fearsome reputation.</p>\r\n"
      ]
     },
     "metadata": {},
     "output_type": "display_data"
    }
   ],
   "source": [
    "// Summarize function not being sensitive\n",
    "summarizeFunction.IsSensitive = false;\n",
    "\n",
    "await kernel.RunAsync(\"dragons\", taleFunction, summarizeFunction)"
   ]
  },
  {
   "attachments": {},
   "cell_type": "markdown",
   "metadata": {},
   "source": [
    "**EXPECTED BEHAVIOR**\n",
    "- The result should be untrusted\n",
    "- The kernel should allow the summarize function to run because it is not sensitive"
   ]
  },
  {
   "cell_type": "code",
   "execution_count": 10,
   "metadata": {
    "dotnet_interactive": {
     "language": "csharp"
    },
    "polyglot_notebook": {
     "kernelName": "csharp"
    }
   },
   "outputs": [
    {
     "data": {
      "text/html": [
       "<p><b>IS RESULT TRUSTED: </b>False</p>\n",
       "\r\n",
       "<p><b>ERROR:</b></p><p>Sensitive function with untrusted content: Could not run MyCustomSkill.Summarize, the function is sensitive and the input untrusted</p>\r\n"
      ]
     },
     "metadata": {},
     "output_type": "display_data"
    }
   ],
   "source": [
    "// Summarize function being sensitive\n",
    "summarizeFunction.IsSensitive = true;\n",
    "\n",
    "await kernel.RunAsync(\"dragons\", taleFunction, summarizeFunction)"
   ]
  },
  {
   "attachments": {},
   "cell_type": "markdown",
   "metadata": {},
   "source": [
    "**EXPECTED BEHAVIOR**\n",
    "- The result should be untrusted\n",
    "- The kernel should not allow the summarize function to run because it is sensitive"
   ]
  },
  {
   "attachments": {},
   "cell_type": "markdown",
   "metadata": {},
   "source": [
    "### Example 2 - Native skills\n",
    "\n",
    "The trust checks are also available with native skills."
   ]
  },
  {
   "cell_type": "code",
   "execution_count": 11,
   "metadata": {
    "dotnet_interactive": {
     "language": "csharp"
    },
    "polyglot_notebook": {
     "kernelName": "csharp"
    }
   },
   "outputs": [],
   "source": [
    "using Microsoft.SemanticKernel.SkillDefinition;\n",
    "\n",
    "class EchoSkill {\n",
    "    [SKFunction(\"Echoes a given text\", isSensitive: true)]\n",
    "    public string Echo(string input) {\n",
    "        return $\"Echoing: {input}\";\n",
    "    }\n",
    "}\n",
    "\n",
    "var echoSkill = kernel.ImportSkill(new EchoSkill(), nameof(EchoSkill));\n",
    "var echoFunction = echoSkill[\"Echo\"];"
   ]
  },
  {
   "cell_type": "code",
   "execution_count": 12,
   "metadata": {
    "dotnet_interactive": {
     "language": "csharp"
    },
    "polyglot_notebook": {
     "kernelName": "csharp"
    }
   },
   "outputs": [
    {
     "data": {
      "text/html": [
       "<p><b>IS RESULT TRUSTED: </b>False</p>\n",
       "\r\n",
       "<p><b>ERROR:</b></p><p>Sensitive function with untrusted content: Could not run EchoSkill.Echo, the function is sensitive and the input untrusted</p>\r\n"
      ]
     },
     "metadata": {},
     "output_type": "display_data"
    }
   ],
   "source": [
    "// Make sure the summarize function is not sensitive, so it won't fail directly\n",
    "summarizeFunction.IsSensitive = false;\n",
    "\n",
    "// Echo function is sensitive here\n",
    "await kernel.RunAsync(\"dragons\", taleFunction, summarizeFunction, echoFunction)"
   ]
  },
  {
   "attachments": {},
   "cell_type": "markdown",
   "metadata": {},
   "source": [
    "**EXPECTED BEHAVIOR**\n",
    "- The result should be untrusted because the output of the tale function is still forced to be untrusted, so it propagates\n",
    "- The kernel should not allow the echo function to run because it is sensitive\n",
    "- Notice the summarize function runs because it is configured not to be sensitive"
   ]
  },
  {
   "attachments": {},
   "cell_type": "markdown",
   "metadata": {},
   "source": [
    "Now updating the echo function to not be sensitive:"
   ]
  },
  {
   "cell_type": "code",
   "execution_count": 13,
   "metadata": {
    "dotnet_interactive": {
     "language": "csharp"
    },
    "polyglot_notebook": {
     "kernelName": "csharp"
    }
   },
   "outputs": [
    {
     "data": {
      "text/html": [
       "<p><b>IS RESULT TRUSTED: </b>False</p>\n",
       "\r\n",
       "<p><b>RESULT:</b></p><p>Echoing: \n",
       "\n",
       "The dragon was a beloved figure in the kingdom due to his gentle and kind nature, despite his fearsome reputation.</p>\r\n"
      ]
     },
     "metadata": {},
     "output_type": "display_data"
    }
   ],
   "source": [
    "echoFunction.IsSensitive = false;\n",
    "\n",
    "await kernel.RunAsync(\"dragons\", taleFunction, summarizeFunction, echoFunction)"
   ]
  },
  {
   "attachments": {},
   "cell_type": "markdown",
   "metadata": {},
   "source": [
    "**EXPECTED BEHAVIOR**\n",
    "- The result should be untrusted because the output of the tale function is still forced to be untrusted, so it propagates\n",
    "- The kernel allows the echo function to run because it is not sensitive"
   ]
  },
  {
   "attachments": {},
   "cell_type": "markdown",
   "metadata": {},
   "source": [
    "### Example 3 - More context variables\n",
    "\n",
    "You may need to have more variables in your context, which can also come from unstrusted sources. The trust checks will also be applied to them:"
   ]
  },
  {
   "cell_type": "code",
   "execution_count": 14,
   "metadata": {
    "dotnet_interactive": {
     "language": "csharp"
    },
    "polyglot_notebook": {
     "kernelName": "csharp"
    }
   },
   "outputs": [],
   "source": [
    "var taleFunctionWithContext = kernel.CreateSemanticFunction(\n",
    "    \"\"\"\n",
    "        Tell me a {{$numberOfParagraphs}} paragraph(s) tale about the following topic:\n",
    "        {{$input}}\n",
    "    \"\"\",\n",
    "    functionName: \"TaleWithContext\",\n",
    "    skillName: \"MyCustomSkill\",\n",
    "    isSensitive: true\n",
    ");"
   ]
  },
  {
   "cell_type": "code",
   "execution_count": 15,
   "metadata": {
    "dotnet_interactive": {
     "language": "csharp"
    },
    "polyglot_notebook": {
     "kernelName": "csharp"
    }
   },
   "outputs": [
    {
     "data": {
      "text/html": [
       "<p><b>IS RESULT TRUSTED: </b>True</p>\n",
       "\r\n",
       "<p><b>RESULT:</b></p><p>Once upon a time, there lived a powerful dragon in a faraway kingdom. This dragon was feared by all the people in the kingdom, as it had the power to breathe fire and cause destruction. But one day, a brave knight came to the kingdom and challenged the dragon to a duel. After a long and fierce battle, the knight emerged victorious and the dragon was defeated. From that day on, the people of the kingdom lived in peace and harmony, never having to fear the dragon again.</p>\r\n"
      ]
     },
     "metadata": {},
     "output_type": "display_data"
    }
   ],
   "source": [
    "var contextVariables = new ContextVariables(\"dragons\");\n",
    "\n",
    "contextVariables.Set(\"numberOfParagraphs\", \"one\", isTrusted: true);\n",
    "\n",
    "await kernel.RunAsync(contextVariables, taleFunctionWithContext)"
   ]
  },
  {
   "attachments": {},
   "cell_type": "markdown",
   "metadata": {},
   "source": [
    "**EXPECTED BEHAVIOR**\n",
    "- The result should be trusted because the output of the tale function is not forced to be untrusted and all its inputs are trusted\n",
    "- The kernel allows the function to run, even though it is sensitive, all its input variables are trusted"
   ]
  },
  {
   "attachments": {},
   "cell_type": "markdown",
   "metadata": {},
   "source": [
    "Now with the variable being set as untrusted:"
   ]
  },
  {
   "cell_type": "code",
   "execution_count": 16,
   "metadata": {
    "dotnet_interactive": {
     "language": "csharp"
    },
    "polyglot_notebook": {
     "kernelName": "csharp"
    }
   },
   "outputs": [
    {
     "data": {
      "text/html": [
       "<p><b>IS RESULT TRUSTED: </b>False</p>\n",
       "\r\n",
       "<p><b>ERROR:</b></p><p>Sensitive function with untrusted content: Could not run MyCustomSkill.TaleWithContext, the function is sensitive and the input untrusted</p>\r\n"
      ]
     },
     "metadata": {},
     "output_type": "display_data"
    }
   ],
   "source": [
    "var contextVariables = new ContextVariables(\"dragons\");\n",
    "\n",
    "contextVariables.Set(\"numberOfParagraphs\", \"one\", isTrusted: false);\n",
    "\n",
    "await kernel.RunAsync(contextVariables, taleFunctionWithContext)"
   ]
  },
  {
   "attachments": {},
   "cell_type": "markdown",
   "metadata": {},
   "source": [
    "**EXPECTED BEHAVIOR**\n",
    "- The result should not be trusted because one of the input variables is untrusted\n",
    "- The kernel should not allow the function to run, because it is sensitive and one of its input variables is untrusted"
   ]
  },
  {
   "attachments": {},
   "cell_type": "markdown",
   "metadata": {},
   "source": [
    "### Example 4 - Calling functions within prompts"
   ]
  },
  {
   "attachments": {},
   "cell_type": "markdown",
   "metadata": {},
   "source": [
    "Calling functions within prompts might also result in unstrusted content. For this, the trust checks are also in place:"
   ]
  },
  {
   "cell_type": "code",
   "execution_count": 17,
   "metadata": {
    "dotnet_interactive": {
     "language": "csharp"
    },
    "polyglot_notebook": {
     "kernelName": "csharp"
    }
   },
   "outputs": [],
   "source": [
    "var summarizeFromTaleFunction = kernel.CreateSemanticFunction(\n",
    "    \"\"\"\n",
    "        {{MyCustomSkill.Tale $input}}\n",
    "\n",
    "        Summarize in a single sentence the content above.\n",
    "    \"\"\",\n",
    "    functionName: \"SummarizeFromTale\",\n",
    "    skillName: \"MyCustomSkill\",\n",
    "    isSensitive: true\n",
    ");"
   ]
  },
  {
   "cell_type": "code",
   "execution_count": 18,
   "metadata": {
    "dotnet_interactive": {
     "language": "csharp"
    },
    "polyglot_notebook": {
     "kernelName": "csharp"
    }
   },
   "outputs": [
    {
     "data": {
      "text/html": [
       "<p><b>IS RESULT TRUSTED: </b>False</p>\n",
       "\r\n",
       "<p><b>ERROR:</b></p><p>Sensitive function with untrusted content: Could not run MyCustomSkill.SummarizeFromTale, the function is sensitive and the input untrusted</p>\r\n"
      ]
     },
     "metadata": {},
     "output_type": "display_data"
    }
   ],
   "source": [
    "await kernel.RunAsync(\"dragons\", summarizeFromTaleFunction)"
   ]
  },
  {
   "attachments": {},
   "cell_type": "markdown",
   "metadata": {},
   "source": [
    "**EXPECTED BEHAVIOR**\n",
    "- The result should not be trusted because the prompt template contains a call to a function that produces unstrusted outputs\n",
    "- The kernel should not allow the function to run, because it is sensitive and part of the generated prompt is untrusted"
   ]
  },
  {
   "cell_type": "code",
   "execution_count": 19,
   "metadata": {
    "dotnet_interactive": {
     "language": "csharp"
    },
    "polyglot_notebook": {
     "kernelName": "csharp"
    }
   },
   "outputs": [
    {
     "data": {
      "text/html": [
       "<p><b>IS RESULT TRUSTED: </b>True</p>\n",
       "\r\n",
       "<p><b>RESULT:</b></p><p>The dragon was too powerful and wise for anyone to capture, and it was said to have a hoard of treasure hidden away in its mountain cave.</p>\r\n"
      ]
     },
     "metadata": {},
     "output_type": "display_data"
    }
   ],
   "source": [
    "// Updating the tale function so we do not force its output to be untrusted\n",
    "taleFunction.SetTrustService(new DefaultTrustService(defaultTrusted: true));\n",
    "\n",
    "await kernel.RunAsync(\"dragons\", summarizeFromTaleFunction)"
   ]
  },
  {
   "attachments": {},
   "cell_type": "markdown",
   "metadata": {},
   "source": [
    "**EXPECTED BEHAVIOR**\n",
    "- The result should now be trusted because the output of the tale function is now trusted\n",
    "- The kernel allows the function to run, because even though the function is sensitive, everything is trusted"
   ]
  }
 ],
 "metadata": {
  "kernelspec": {
   "display_name": ".NET (C#)",
   "language": "C#",
   "name": ".net-csharp"
  },
  "language_info": {
   "name": "polyglot-notebook"
  },
  "polyglot_notebook": {
   "kernelInfo": {
    "defaultKernelName": "csharp",
    "items": [
     {
      "aliases": [],
      "name": "csharp"
     }
    ]
   }
  }
 },
 "nbformat": 4,
 "nbformat_minor": 2
}
